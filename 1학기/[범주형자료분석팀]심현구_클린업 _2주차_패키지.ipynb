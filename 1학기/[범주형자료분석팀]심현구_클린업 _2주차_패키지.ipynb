{
 "cells": [
  {
   "cell_type": "code",
   "execution_count": 26,
   "id": "549a5e97",
   "metadata": {},
   "outputs": [],
   "source": [
    "[범주형자료분석팀]심현구_클린업 _2주차_패키지"
   ]
  },
  {
   "cell_type": "code",
   "execution_count": 1,
   "id": "a678af6c",
   "metadata": {},
   "outputs": [],
   "source": [
    "import pandas as pd\n",
    "import numpy as np\n",
    "import matplotlib.pyplot as plt\n",
    "import seaborn as sns\n",
    "import statsmodels\n",
    "import math"
   ]
  },
  {
   "cell_type": "markdown",
   "id": "5762c646",
   "metadata": {},
   "source": [
    "Chapter1"
   ]
  },
  {
   "cell_type": "markdown",
   "id": "e56b92fd",
   "metadata": {},
   "source": [
    "문제1. Train, test 데이터를 불러온 뒤 데이터의 구조를 파악하세요."
   ]
  },
  {
   "cell_type": "code",
   "execution_count": 2,
   "id": "d6fd5f64",
   "metadata": {},
   "outputs": [
    {
     "data": {
      "text/html": [
       "<div>\n",
       "<style scoped>\n",
       "    .dataframe tbody tr th:only-of-type {\n",
       "        vertical-align: middle;\n",
       "    }\n",
       "\n",
       "    .dataframe tbody tr th {\n",
       "        vertical-align: top;\n",
       "    }\n",
       "\n",
       "    .dataframe thead th {\n",
       "        text-align: right;\n",
       "    }\n",
       "</style>\n",
       "<table border=\"1\" class=\"dataframe\">\n",
       "  <thead>\n",
       "    <tr style=\"text-align: right;\">\n",
       "      <th></th>\n",
       "      <th>ID_code</th>\n",
       "      <th>price</th>\n",
       "      <th>carat</th>\n",
       "      <th>cut</th>\n",
       "      <th>color</th>\n",
       "      <th>clarity</th>\n",
       "      <th>depth</th>\n",
       "      <th>table</th>\n",
       "      <th>x</th>\n",
       "      <th>y</th>\n",
       "      <th>z</th>\n",
       "    </tr>\n",
       "  </thead>\n",
       "  <tbody>\n",
       "    <tr>\n",
       "      <th>0</th>\n",
       "      <td>train_1</td>\n",
       "      <td>878</td>\n",
       "      <td>0.30</td>\n",
       "      <td>Premium</td>\n",
       "      <td>G</td>\n",
       "      <td>VVS2</td>\n",
       "      <td>62.9</td>\n",
       "      <td>55.0</td>\n",
       "      <td>4.28</td>\n",
       "      <td>4.24</td>\n",
       "      <td>2.68</td>\n",
       "    </tr>\n",
       "    <tr>\n",
       "      <th>1</th>\n",
       "      <td>train_2</td>\n",
       "      <td>3183</td>\n",
       "      <td>0.70</td>\n",
       "      <td>Premium</td>\n",
       "      <td>D</td>\n",
       "      <td>VS1</td>\n",
       "      <td>60.9</td>\n",
       "      <td>60.0</td>\n",
       "      <td>5.75</td>\n",
       "      <td>5.71</td>\n",
       "      <td>3.49</td>\n",
       "    </tr>\n",
       "    <tr>\n",
       "      <th>2</th>\n",
       "      <td>train_3</td>\n",
       "      <td>624</td>\n",
       "      <td>0.30</td>\n",
       "      <td>Ideal</td>\n",
       "      <td>G</td>\n",
       "      <td>VS1</td>\n",
       "      <td>62.0</td>\n",
       "      <td>56.0</td>\n",
       "      <td>4.29</td>\n",
       "      <td>4.32</td>\n",
       "      <td>2.67</td>\n",
       "    </tr>\n",
       "    <tr>\n",
       "      <th>3</th>\n",
       "      <td>train_4</td>\n",
       "      <td>743</td>\n",
       "      <td>0.33</td>\n",
       "      <td>Premium</td>\n",
       "      <td>H</td>\n",
       "      <td>VS1</td>\n",
       "      <td>61.9</td>\n",
       "      <td>58.0</td>\n",
       "      <td>4.45</td>\n",
       "      <td>4.43</td>\n",
       "      <td>2.75</td>\n",
       "    </tr>\n",
       "    <tr>\n",
       "      <th>4</th>\n",
       "      <td>train_5</td>\n",
       "      <td>526</td>\n",
       "      <td>0.25</td>\n",
       "      <td>Very Good</td>\n",
       "      <td>F</td>\n",
       "      <td>IF</td>\n",
       "      <td>63.3</td>\n",
       "      <td>59.0</td>\n",
       "      <td>3.99</td>\n",
       "      <td>4.04</td>\n",
       "      <td>2.54</td>\n",
       "    </tr>\n",
       "  </tbody>\n",
       "</table>\n",
       "</div>"
      ],
      "text/plain": [
       "   ID_code  price  carat        cut color clarity  depth  table     x     y  \\\n",
       "0  train_1    878   0.30    Premium     G    VVS2   62.9   55.0  4.28  4.24   \n",
       "1  train_2   3183   0.70    Premium     D     VS1   60.9   60.0  5.75  5.71   \n",
       "2  train_3    624   0.30      Ideal     G     VS1   62.0   56.0  4.29  4.32   \n",
       "3  train_4    743   0.33    Premium     H     VS1   61.9   58.0  4.45  4.43   \n",
       "4  train_5    526   0.25  Very Good     F      IF   63.3   59.0  3.99  4.04   \n",
       "\n",
       "      z  \n",
       "0  2.68  \n",
       "1  3.49  \n",
       "2  2.67  \n",
       "3  2.75  \n",
       "4  2.54  "
      ]
     },
     "execution_count": 2,
     "metadata": {},
     "output_type": "execute_result"
    }
   ],
   "source": [
    "train = pd.read_csv('C:/Users/mrg07/Desktop/99shimshim/SKKU/PSAT/클린업/week2/week2_package/train.csv')\n",
    "test = pd.read_csv('C:/Users/mrg07/Desktop/99shimshim/SKKU/PSAT/클린업/week2/week2_package/test.csv')\n",
    "\n",
    "train.head()"
   ]
  },
  {
   "cell_type": "code",
   "execution_count": 3,
   "id": "cd2f4aea",
   "metadata": {},
   "outputs": [
    {
     "data": {
      "text/html": [
       "<div>\n",
       "<style scoped>\n",
       "    .dataframe tbody tr th:only-of-type {\n",
       "        vertical-align: middle;\n",
       "    }\n",
       "\n",
       "    .dataframe tbody tr th {\n",
       "        vertical-align: top;\n",
       "    }\n",
       "\n",
       "    .dataframe thead th {\n",
       "        text-align: right;\n",
       "    }\n",
       "</style>\n",
       "<table border=\"1\" class=\"dataframe\">\n",
       "  <thead>\n",
       "    <tr style=\"text-align: right;\">\n",
       "      <th></th>\n",
       "      <th>ID_code</th>\n",
       "      <th>price</th>\n",
       "      <th>carat</th>\n",
       "      <th>cut</th>\n",
       "      <th>color</th>\n",
       "      <th>clarity</th>\n",
       "      <th>depth</th>\n",
       "      <th>table</th>\n",
       "      <th>x</th>\n",
       "      <th>y</th>\n",
       "      <th>z</th>\n",
       "    </tr>\n",
       "  </thead>\n",
       "  <tbody>\n",
       "    <tr>\n",
       "      <th>21702</th>\n",
       "      <td>train_21703</td>\n",
       "      <td>630</td>\n",
       "      <td>0.40</td>\n",
       "      <td>Very Good</td>\n",
       "      <td>G</td>\n",
       "      <td>SI2</td>\n",
       "      <td>62.9</td>\n",
       "      <td>57.0</td>\n",
       "      <td>4.68</td>\n",
       "      <td>4.70</td>\n",
       "      <td>2.95</td>\n",
       "    </tr>\n",
       "    <tr>\n",
       "      <th>21703</th>\n",
       "      <td>train_21704</td>\n",
       "      <td>2977</td>\n",
       "      <td>0.81</td>\n",
       "      <td>Ideal</td>\n",
       "      <td>F</td>\n",
       "      <td>SI1</td>\n",
       "      <td>61.9</td>\n",
       "      <td>57.0</td>\n",
       "      <td>5.98</td>\n",
       "      <td>6.01</td>\n",
       "      <td>3.71</td>\n",
       "    </tr>\n",
       "    <tr>\n",
       "      <th>21704</th>\n",
       "      <td>train_21705</td>\n",
       "      <td>6443</td>\n",
       "      <td>1.36</td>\n",
       "      <td>Ideal</td>\n",
       "      <td>D</td>\n",
       "      <td>SI2</td>\n",
       "      <td>61.2</td>\n",
       "      <td>57.0</td>\n",
       "      <td>7.15</td>\n",
       "      <td>7.19</td>\n",
       "      <td>4.39</td>\n",
       "    </tr>\n",
       "    <tr>\n",
       "      <th>21705</th>\n",
       "      <td>train_21706</td>\n",
       "      <td>11487</td>\n",
       "      <td>1.51</td>\n",
       "      <td>Good</td>\n",
       "      <td>E</td>\n",
       "      <td>SI1</td>\n",
       "      <td>62.8</td>\n",
       "      <td>59.0</td>\n",
       "      <td>7.16</td>\n",
       "      <td>7.20</td>\n",
       "      <td>4.51</td>\n",
       "    </tr>\n",
       "    <tr>\n",
       "      <th>21706</th>\n",
       "      <td>train_21707</td>\n",
       "      <td>14799</td>\n",
       "      <td>2.01</td>\n",
       "      <td>Fair</td>\n",
       "      <td>G</td>\n",
       "      <td>SI2</td>\n",
       "      <td>63.8</td>\n",
       "      <td>59.0</td>\n",
       "      <td>7.77</td>\n",
       "      <td>7.87</td>\n",
       "      <td>4.99</td>\n",
       "    </tr>\n",
       "  </tbody>\n",
       "</table>\n",
       "</div>"
      ],
      "text/plain": [
       "           ID_code  price  carat        cut color clarity  depth  table     x  \\\n",
       "21702  train_21703    630   0.40  Very Good     G     SI2   62.9   57.0  4.68   \n",
       "21703  train_21704   2977   0.81      Ideal     F     SI1   61.9   57.0  5.98   \n",
       "21704  train_21705   6443   1.36      Ideal     D     SI2   61.2   57.0  7.15   \n",
       "21705  train_21706  11487   1.51       Good     E     SI1   62.8   59.0  7.16   \n",
       "21706  train_21707  14799   2.01       Fair     G     SI2   63.8   59.0  7.77   \n",
       "\n",
       "          y     z  \n",
       "21702  4.70  2.95  \n",
       "21703  6.01  3.71  \n",
       "21704  7.19  4.39  \n",
       "21705  7.20  4.51  \n",
       "21706  7.87  4.99  "
      ]
     },
     "execution_count": 3,
     "metadata": {},
     "output_type": "execute_result"
    }
   ],
   "source": [
    "train.tail()"
   ]
  },
  {
   "cell_type": "code",
   "execution_count": 4,
   "id": "5ef71714",
   "metadata": {},
   "outputs": [
    {
     "name": "stdout",
     "output_type": "stream",
     "text": [
      "<class 'pandas.core.frame.DataFrame'>\n",
      "RangeIndex: 21707 entries, 0 to 21706\n",
      "Data columns (total 11 columns):\n",
      " #   Column   Non-Null Count  Dtype  \n",
      "---  ------   --------------  -----  \n",
      " 0   ID_code  21707 non-null  object \n",
      " 1   price    21707 non-null  int64  \n",
      " 2   carat    21707 non-null  float64\n",
      " 3   cut      21707 non-null  object \n",
      " 4   color    21707 non-null  object \n",
      " 5   clarity  21707 non-null  object \n",
      " 6   depth    21010 non-null  float64\n",
      " 7   table    21707 non-null  float64\n",
      " 8   x        21707 non-null  float64\n",
      " 9   y        21707 non-null  float64\n",
      " 10  z        21707 non-null  float64\n",
      "dtypes: float64(6), int64(1), object(4)\n",
      "memory usage: 1.8+ MB\n"
     ]
    },
    {
     "data": {
      "text/html": [
       "<div>\n",
       "<style scoped>\n",
       "    .dataframe tbody tr th:only-of-type {\n",
       "        vertical-align: middle;\n",
       "    }\n",
       "\n",
       "    .dataframe tbody tr th {\n",
       "        vertical-align: top;\n",
       "    }\n",
       "\n",
       "    .dataframe thead th {\n",
       "        text-align: right;\n",
       "    }\n",
       "</style>\n",
       "<table border=\"1\" class=\"dataframe\">\n",
       "  <thead>\n",
       "    <tr style=\"text-align: right;\">\n",
       "      <th></th>\n",
       "      <th>price</th>\n",
       "      <th>carat</th>\n",
       "      <th>depth</th>\n",
       "      <th>table</th>\n",
       "      <th>x</th>\n",
       "      <th>y</th>\n",
       "      <th>z</th>\n",
       "    </tr>\n",
       "  </thead>\n",
       "  <tbody>\n",
       "    <tr>\n",
       "      <th>count</th>\n",
       "      <td>21707.000000</td>\n",
       "      <td>21707.000000</td>\n",
       "      <td>21010.000000</td>\n",
       "      <td>21707.000000</td>\n",
       "      <td>21707.000000</td>\n",
       "      <td>21707.000000</td>\n",
       "      <td>21707.000000</td>\n",
       "    </tr>\n",
       "    <tr>\n",
       "      <th>mean</th>\n",
       "      <td>3939.077487</td>\n",
       "      <td>0.798718</td>\n",
       "      <td>61.748415</td>\n",
       "      <td>57.457350</td>\n",
       "      <td>5.732041</td>\n",
       "      <td>5.733807</td>\n",
       "      <td>3.539983</td>\n",
       "    </tr>\n",
       "    <tr>\n",
       "      <th>std</th>\n",
       "      <td>4009.460040</td>\n",
       "      <td>0.475534</td>\n",
       "      <td>1.410605</td>\n",
       "      <td>2.239175</td>\n",
       "      <td>1.125419</td>\n",
       "      <td>1.117037</td>\n",
       "      <td>0.722429</td>\n",
       "    </tr>\n",
       "    <tr>\n",
       "      <th>min</th>\n",
       "      <td>326.000000</td>\n",
       "      <td>0.200000</td>\n",
       "      <td>50.800000</td>\n",
       "      <td>49.000000</td>\n",
       "      <td>0.000000</td>\n",
       "      <td>0.000000</td>\n",
       "      <td>0.000000</td>\n",
       "    </tr>\n",
       "    <tr>\n",
       "      <th>25%</th>\n",
       "      <td>949.000000</td>\n",
       "      <td>0.400000</td>\n",
       "      <td>61.000000</td>\n",
       "      <td>56.000000</td>\n",
       "      <td>4.710000</td>\n",
       "      <td>4.720000</td>\n",
       "      <td>2.910000</td>\n",
       "    </tr>\n",
       "    <tr>\n",
       "      <th>50%</th>\n",
       "      <td>2387.000000</td>\n",
       "      <td>0.700000</td>\n",
       "      <td>61.800000</td>\n",
       "      <td>57.000000</td>\n",
       "      <td>5.700000</td>\n",
       "      <td>5.710000</td>\n",
       "      <td>3.520000</td>\n",
       "    </tr>\n",
       "    <tr>\n",
       "      <th>75%</th>\n",
       "      <td>5355.500000</td>\n",
       "      <td>1.050000</td>\n",
       "      <td>62.500000</td>\n",
       "      <td>59.000000</td>\n",
       "      <td>6.540000</td>\n",
       "      <td>6.540000</td>\n",
       "      <td>4.040000</td>\n",
       "    </tr>\n",
       "    <tr>\n",
       "      <th>max</th>\n",
       "      <td>18818.000000</td>\n",
       "      <td>4.500000</td>\n",
       "      <td>73.600000</td>\n",
       "      <td>79.000000</td>\n",
       "      <td>10.230000</td>\n",
       "      <td>10.160000</td>\n",
       "      <td>31.800000</td>\n",
       "    </tr>\n",
       "  </tbody>\n",
       "</table>\n",
       "</div>"
      ],
      "text/plain": [
       "              price         carat         depth         table             x  \\\n",
       "count  21707.000000  21707.000000  21010.000000  21707.000000  21707.000000   \n",
       "mean    3939.077487      0.798718     61.748415     57.457350      5.732041   \n",
       "std     4009.460040      0.475534      1.410605      2.239175      1.125419   \n",
       "min      326.000000      0.200000     50.800000     49.000000      0.000000   \n",
       "25%      949.000000      0.400000     61.000000     56.000000      4.710000   \n",
       "50%     2387.000000      0.700000     61.800000     57.000000      5.700000   \n",
       "75%     5355.500000      1.050000     62.500000     59.000000      6.540000   \n",
       "max    18818.000000      4.500000     73.600000     79.000000     10.230000   \n",
       "\n",
       "                  y             z  \n",
       "count  21707.000000  21707.000000  \n",
       "mean       5.733807      3.539983  \n",
       "std        1.117037      0.722429  \n",
       "min        0.000000      0.000000  \n",
       "25%        4.720000      2.910000  \n",
       "50%        5.710000      3.520000  \n",
       "75%        6.540000      4.040000  \n",
       "max       10.160000     31.800000  "
      ]
     },
     "execution_count": 4,
     "metadata": {},
     "output_type": "execute_result"
    }
   ],
   "source": [
    "train.info()\n",
    "train.describe()"
   ]
  },
  {
   "cell_type": "markdown",
   "id": "a50316db",
   "metadata": {},
   "source": [
    "문제2. Train과 Test 데이터에서 ID_code는 필요하지 않으니 해당 열을 삭제해주세요."
   ]
  },
  {
   "cell_type": "code",
   "execution_count": 5,
   "id": "a9a28740",
   "metadata": {},
   "outputs": [],
   "source": [
    "train = train.drop(columns=\"ID_code\")\n",
    "test = test.drop(columns=\"ID_code\")"
   ]
  },
  {
   "cell_type": "markdown",
   "id": "11de9ea1",
   "metadata": {},
   "source": [
    "문제 3. Train 과 Test 데이터에서 결측치가 존재하는지 확인한 후, 이를 다음과 같이 시각화해주세요."
   ]
  },
  {
   "cell_type": "code",
   "execution_count": 6,
   "id": "67e11228",
   "metadata": {
    "scrolled": true
   },
   "outputs": [
    {
     "data": {
      "text/plain": [
       "<Axes: >"
      ]
     },
     "execution_count": 6,
     "metadata": {},
     "output_type": "execute_result"
    },
    {
     "data": {
      "image/png": "[encoded data removed]",
      "text/plain": [
       "<Figure size 2500x1000 with 2 Axes>"
      ]
     },
     "metadata": {},
     "output_type": "display_data"
    }
   ],
   "source": [
    "import missingno as msno\n",
    "\n",
    "missing = train.isnull().sum()\n",
    "\n",
    "msno.matrix(train, color=(0.1, 0.6, 0.8))"
   ]
  },
  {
   "cell_type": "code",
   "execution_count": 7,
   "id": "8e9339b8",
   "metadata": {},
   "outputs": [
    {
     "data": {
      "text/plain": [
       "<Axes: >"
      ]
     },
     "execution_count": 7,
     "metadata": {},
     "output_type": "execute_result"
    },
    {
     "data": {
      "image/png": "[encoded data removed]",
      "text/plain": [
       "<Figure size 640x480 with 1 Axes>"
      ]
     },
     "metadata": {},
     "output_type": "display_data"
    }
   ],
   "source": [
    "missing.plot.bar(color=(0.1, 0.6, 0.8))"
   ]
  },
  {
   "cell_type": "markdown",
   "id": "4c7e890b",
   "metadata": {},
   "source": [
    "문제4. 문제 1부터 문제 3에서 얻어낸 정보들을 바탕으로, 데이터에서 각 변수들이 범주형 변수인지 수치형 변수인지 판단해보고,\n",
    "그 이유에 대해서 간략하게 서술해주세요."
   ]
  },
  {
   "cell_type": "markdown",
   "id": "836dd300",
   "metadata": {},
   "source": [
    "describe 함수는 수치형 변수에 대해서만 결과를 출력하기 때문에 describe의 output에 나타난 변수들이 수치형이라고 할 수 있다.\n",
    "따라서, price, carat, depth, table, x, y, z 는 수치형, 나머지는 범주형 변수이다."
   ]
  },
  {
   "cell_type": "markdown",
   "id": "22a5d2f0",
   "metadata": {},
   "source": [
    "문제5. 데이터에서 수치형 변수들만을 사용하여, 수치형 변수들 간의 상관관계를 다음과 같은 상관관계 Plot을\n",
    "통해 확인해주세요. 그리고 그 결과에 대해서 간단히 해석해주세요."
   ]
  },
  {
   "cell_type": "code",
   "execution_count": 8,
   "id": "568f467d",
   "metadata": {},
   "outputs": [
    {
     "name": "stdout",
     "output_type": "stream",
     "text": [
      "          price     carat     depth     table         x         y         z\n",
      "price  1.000000  0.921996 -0.009134  0.132846  0.885550  0.887085  0.846189\n",
      "carat  0.921996  1.000000  0.032423  0.189156  0.976114  0.974987  0.936281\n",
      "depth -0.009134  0.032423  1.000000 -0.294357 -0.020760 -0.024621  0.099855\n",
      "table  0.132846  0.189156 -0.294357  1.000000  0.202117  0.195981  0.153694\n",
      "x      0.885550  0.976114 -0.020760  0.202117  1.000000  0.998524  0.952215\n",
      "y      0.887085  0.974987 -0.024621  0.195981  0.998524  1.000000  0.951941\n",
      "z      0.846189  0.936281  0.099855  0.153694  0.952215  0.951941  1.000000\n"
     ]
    },
    {
     "data": {
      "text/plain": [
       "Text(0.5, 1.05, 'Correlation of Numeric Variables')"
      ]
     },
     "execution_count": 8,
     "metadata": {},
     "output_type": "execute_result"
    },
    {
     "data": {
      "image/png": "[encoded data removed]",
      "text/plain": [
       "<Figure size 640x480 with 2 Axes>"
      ]
     },
     "metadata": {},
     "output_type": "display_data"
    }
   ],
   "source": [
    "train_num = train.loc[:,['price','carat','depth', 'table', 'x', 'y', 'z']]\n",
    "corr1 = train_num.corr(method = 'pearson')\n",
    "\n",
    "print(corr1)\n",
    "\n",
    "graph1 = sns.heatmap(corr1, cmap='RdBu', square = False, annot = True, annot_kws = {\"size\" : 7}, center = 0, vmin = -1)\n",
    "plt.title(\"Correlation of Numeric Variables\", y = 1.05, size = 13)"
   ]
  },
  {
   "cell_type": "markdown",
   "id": "e00e25f0",
   "metadata": {},
   "source": [
    "문제6. 수치형 변수에 대해서 다음과 같이 시각화를 진행해주세요. 이후, 시각화한 Plot을 통해 확인할 수 있\n",
    "는 점을 간단히 서술해주세요"
   ]
  },
  {
   "cell_type": "code",
   "execution_count": 9,
   "id": "dcd0b479",
   "metadata": {},
   "outputs": [
    {
     "data": {
      "image/png": "[encoded data removed]",
      "text/plain": [
       "<Figure size 1000x1000 with 7 Axes>"
      ]
     },
     "metadata": {},
     "output_type": "display_data"
    }
   ],
   "source": [
    "import warnings\n",
    "warnings.filterwarnings('ignore')\n",
    "\n",
    "colors = [\"#1B9E77\",\"#D95F02\",\"#7570B3\",\"#E7298A\",\"#66A61E\",\"#E6AB02\",\"#A6761D\",\"#666666\"]\n",
    "sns.set_palette(sns.color_palette(colors))\n",
    "\n",
    "fig = plt.figure(figsize = (10,10))\n",
    "\n",
    "plt.subplot(421)\n",
    "sns.distplot(train_num['price'], color = colors[0], hist_kws=dict(edgecolor=\"black\", linewidth=1), bins=30)\n",
    "\n",
    "plt.subplot(422)\n",
    "sns.distplot(train_num['carat'], color = colors[1], hist_kws=dict(edgecolor=\"black\", linewidth=1), bins=30)\n",
    "\n",
    "plt.subplot(423)\n",
    "sns.distplot(train_num['depth'], color = colors[2], hist_kws=dict(edgecolor=\"black\", linewidth=1), bins=30)\n",
    "\n",
    "plt.subplot(424)\n",
    "sns.distplot(train_num['table'], color = colors[3], hist_kws=dict(edgecolor=\"black\", linewidth=1), bins=30)\n",
    "\n",
    "plt.subplot(425)\n",
    "sns.distplot(train_num['x'], color = colors[4], hist_kws=dict(edgecolor=\"black\", linewidth=1), bins=30)\n",
    "\n",
    "plt.subplot(426)\n",
    "sns.distplot(train_num['y'], color = colors[5], hist_kws=dict(edgecolor=\"black\", linewidth=1), bins=30)\n",
    "\n",
    "plt.subplot(427)\n",
    "sns.distplot(train_num['z'], color = colors[6], hist_kws=dict(edgecolor=\"black\", linewidth=1), bins=30)\n",
    "\n",
    "plt.tight_layout()\n",
    "\n"
   ]
  },
  {
   "cell_type": "markdown",
   "id": "14df921f",
   "metadata": {},
   "source": [
    "문제7. 범주형 변수에 대해서 다음과 같이 시각화를 진행해주세요. 이후, 시각화한 Plot을 통해 확인할 수 있는 점을 간단히 서술해주세요."
   ]
  },
  {
   "cell_type": "code",
   "execution_count": 10,
   "id": "65893385",
   "metadata": {},
   "outputs": [
    {
     "data": {
      "text/plain": [
       "<seaborn.axisgrid.FacetGrid at 0x25286802750>"
      ]
     },
     "execution_count": 10,
     "metadata": {},
     "output_type": "execute_result"
    },
    {
     "data": {
      "text/plain": [
       "<Figure size 500x500 with 0 Axes>"
      ]
     },
     "metadata": {},
     "output_type": "display_data"
    },
    {
     "data": {
      "image/png": "[encoded data removed]",
      "text/plain": [
       "<Figure size 500x500 with 1 Axes>"
      ]
     },
     "metadata": {},
     "output_type": "display_data"
    },
    {
     "data": {
      "image/png": "[encoded data removed]",
      "text/plain": [
       "<Figure size 500x500 with 1 Axes>"
      ]
     },
     "metadata": {},
     "output_type": "display_data"
    },
    {
     "data": {
      "image/png": "[encoded data removed]",
      "text/plain": [
       "<Figure size 500x500 with 1 Axes>"
      ]
     },
     "metadata": {},
     "output_type": "display_data"
    }
   ],
   "source": [
    "fig = plt.figure(figsize = (5,5))\n",
    "\n",
    "sns.catplot(data = train, x = 'cut', y = 'price', palette = \"Pastel1\", kind = \"bar\")\n",
    "\n",
    "sns.catplot(data = train, x = 'color', y = 'price', palette = \"Pastel1\", kind = \"bar\")\n",
    "\n",
    "sns.catplot(data = train, x = 'clarity', y = 'price', palette = \"Pastel1\", kind = \"bar\")\n"
   ]
  },
  {
   "cell_type": "markdown",
   "id": "89ba5663",
   "metadata": {},
   "source": [
    "문제8. 이후 데이터를 전처리하는 과정에서, Test Data에 전처리를 진행할 때 Train Set과 동일한 전처리를 진행해줘야 합니다.\n",
    "이 이유와 더 나아가서 ‘Data Leakage’가 무엇인지 알아보고 간단히 서술하세요"
   ]
  },
  {
   "cell_type": "markdown",
   "id": "b3fb0f61",
   "metadata": {},
   "source": [
    "우선 데이터를 train data와 test data로 분리하는 것은 과적합을 방지하기 위함이다. \n",
    "train data를 모델에 학습시킨 후 validation data로 최적의 하이퍼파라미터를 찾고, test data로 예측을 한다.\n",
    "train data와 test data는 결국 같은 raw data에서 분리된 것이기 때문에 동일한 전처리를 해야 모델에 넣기 적합한 데이터가 된다.\n",
    "그렇지 않으면 Data leakage가 발생할 수 있기 때문이다.\n",
    "\n",
    "Data leakage는 학습 데이터가 타겟에 대한 정보를 가지고 있지만, 그 정보들을 실제 예측에 사용할 수 없는 경우 발생하는 문제이다.\n",
    "학습 데이터, 심지어 validation 데이터에 대해서도 학습이 잘 되었지만 모델 배포후에는 제대로 동작하지 않는다는 의미이다. \n",
    "\n",
    "Data Leakage는 두 가지 원인으로 발생하게 된다.\n",
    "\n",
    "Train-Test Contamination\n",
    "Train 데이터와 Val 데이터를 제대로 구분하지 않았을 때 발생하게 된다.\n",
    "Train data와 val data를 나누기 전에 전처리를 실행한다고 생각해보면, (결국, 전처리 하고 data split한다는 것)\n",
    "당연히 모델의 검증 점수가 올라갈 수 밖에 없다. val data를 예측 방법에 통합했기 때문이라고 생각하면 된다.\n",
    "그럼 특정 데이터에 대해서는 좋은 성능을 내겠지만, Unseen data에 대해서는 성능이 좋지 못하다.\n",
    "결국 train-test set을 나누고 전처리를 하는 것이 좋으며, 이러한 문제는 pipeline을 이용하여 휴먼 에러를 방지할 수 있다.\n",
    "특히 교차검증을 할 때는 이 pipeline을 이용하는 것이 아주 중요하다는 것을 기억하자.\n",
    "\n",
    "Target Leakage\n",
    "예측 시점에 사용할 수 없는 데이터가 데이터 셋에 포함되어 있을 경우 발생하게 된다.\n",
    "예를 들어, target이 암의 발병 여부인데 데이터 셋에 항암치료라는 feature가 있다고 가정해보자.\n",
    "항암 치료는 이미 암이 생긴 후에 하는 치료이기 때문에, target이 없이 항암치료라는 feature만 가지고 target를 유추할 수 있게 된다.\n",
    "결국 target에 지나치게 영향을 주는 featrue는 제거를 해줌으로 데이터 누수를 방지해야한다.\n",
    "\n",
    "[출처] https://velog.io/@73syjs/%EC%A0%95%EB%B3%B4%EC%9D%98-%EB%88%84%EC%88%98-%EB%8D%B0%EC%9D%B4%ED%84%B0-%EB%9E%AD%EA%B8%80%EB%A7%81"
   ]
  },
  {
   "cell_type": "markdown",
   "id": "f71df39c",
   "metadata": {},
   "source": [
    "문제9. 문제 5부터 문제 7에서 얻어낸 정보들을 바탕으로, 앞서 Train과 Test 데이터에 나타나는 결측치를 적절하게 채워주세요.\n",
    "이후, 결측치가 잘 대체되었는지 다시 한번 확인해보세요."
   ]
  },
  {
   "cell_type": "code",
   "execution_count": 11,
   "id": "d0a3b8d3",
   "metadata": {},
   "outputs": [
    {
     "data": {
      "text/plain": [
       "price      0\n",
       "carat      0\n",
       "cut        0\n",
       "color      0\n",
       "clarity    0\n",
       "depth      0\n",
       "table      0\n",
       "x          0\n",
       "y          0\n",
       "z          0\n",
       "dtype: int64"
      ]
     },
     "execution_count": 11,
     "metadata": {},
     "output_type": "execute_result"
    }
   ],
   "source": [
    "train = train.fillna(train.mean())\n",
    "test = test.fillna(test.mean())\n",
    "\n",
    "train.isnull().sum()"
   ]
  },
  {
   "cell_type": "markdown",
   "id": "4416ff03",
   "metadata": {},
   "source": [
    "문제10. 범주형 변수들에 대해서 LabelEncoding을 진행하고, 이를 Train과 Test 모두에 적용해주세요."
   ]
  },
  {
   "cell_type": "code",
   "execution_count": 12,
   "id": "628443c4",
   "metadata": {},
   "outputs": [],
   "source": [
    "from sklearn.preprocessing import LabelEncoder\n",
    "\n",
    "encoder1 = LabelEncoder()\n",
    "encoder1.fit(train['cut'])\n",
    "train[\"cut\"] = encoder1.transform(train['cut'])\n",
    "\n",
    "encoder1.fit(train['color'])\n",
    "train[\"color\"] = encoder1.transform(train['color'])\n",
    "\n",
    "encoder1.fit(train['clarity'])\n",
    "train[\"clarity\"] = encoder1.transform(train['clarity'])\n",
    "\n",
    "encoder2 = LabelEncoder()\n",
    "encoder2.fit(test['cut'])\n",
    "test[\"cut\"] = encoder2.transform(test['cut'])\n",
    "\n",
    "encoder2.fit(test['color'])\n",
    "test[\"color\"] = encoder2.transform(test['color'])\n",
    "\n",
    "encoder2.fit(test['clarity'])\n",
    "test[\"clarity\"] = encoder2.transform(test['clarity'])\n"
   ]
  },
  {
   "cell_type": "code",
   "execution_count": 13,
   "id": "a08f69de",
   "metadata": {},
   "outputs": [
    {
     "data": {
      "text/html": [
       "<div>\n",
       "<style scoped>\n",
       "    .dataframe tbody tr th:only-of-type {\n",
       "        vertical-align: middle;\n",
       "    }\n",
       "\n",
       "    .dataframe tbody tr th {\n",
       "        vertical-align: top;\n",
       "    }\n",
       "\n",
       "    .dataframe thead th {\n",
       "        text-align: right;\n",
       "    }\n",
       "</style>\n",
       "<table border=\"1\" class=\"dataframe\">\n",
       "  <thead>\n",
       "    <tr style=\"text-align: right;\">\n",
       "      <th></th>\n",
       "      <th>price</th>\n",
       "      <th>carat</th>\n",
       "      <th>cut</th>\n",
       "      <th>color</th>\n",
       "      <th>clarity</th>\n",
       "      <th>depth</th>\n",
       "      <th>table</th>\n",
       "      <th>x</th>\n",
       "      <th>y</th>\n",
       "      <th>z</th>\n",
       "    </tr>\n",
       "  </thead>\n",
       "  <tbody>\n",
       "    <tr>\n",
       "      <th>0</th>\n",
       "      <td>878</td>\n",
       "      <td>0.30</td>\n",
       "      <td>3</td>\n",
       "      <td>3</td>\n",
       "      <td>7</td>\n",
       "      <td>62.9</td>\n",
       "      <td>55.0</td>\n",
       "      <td>4.28</td>\n",
       "      <td>4.24</td>\n",
       "      <td>2.68</td>\n",
       "    </tr>\n",
       "    <tr>\n",
       "      <th>1</th>\n",
       "      <td>3183</td>\n",
       "      <td>0.70</td>\n",
       "      <td>3</td>\n",
       "      <td>0</td>\n",
       "      <td>4</td>\n",
       "      <td>60.9</td>\n",
       "      <td>60.0</td>\n",
       "      <td>5.75</td>\n",
       "      <td>5.71</td>\n",
       "      <td>3.49</td>\n",
       "    </tr>\n",
       "    <tr>\n",
       "      <th>2</th>\n",
       "      <td>624</td>\n",
       "      <td>0.30</td>\n",
       "      <td>2</td>\n",
       "      <td>3</td>\n",
       "      <td>4</td>\n",
       "      <td>62.0</td>\n",
       "      <td>56.0</td>\n",
       "      <td>4.29</td>\n",
       "      <td>4.32</td>\n",
       "      <td>2.67</td>\n",
       "    </tr>\n",
       "    <tr>\n",
       "      <th>3</th>\n",
       "      <td>743</td>\n",
       "      <td>0.33</td>\n",
       "      <td>3</td>\n",
       "      <td>4</td>\n",
       "      <td>4</td>\n",
       "      <td>61.9</td>\n",
       "      <td>58.0</td>\n",
       "      <td>4.45</td>\n",
       "      <td>4.43</td>\n",
       "      <td>2.75</td>\n",
       "    </tr>\n",
       "    <tr>\n",
       "      <th>4</th>\n",
       "      <td>526</td>\n",
       "      <td>0.25</td>\n",
       "      <td>4</td>\n",
       "      <td>2</td>\n",
       "      <td>1</td>\n",
       "      <td>63.3</td>\n",
       "      <td>59.0</td>\n",
       "      <td>3.99</td>\n",
       "      <td>4.04</td>\n",
       "      <td>2.54</td>\n",
       "    </tr>\n",
       "    <tr>\n",
       "      <th>...</th>\n",
       "      <td>...</td>\n",
       "      <td>...</td>\n",
       "      <td>...</td>\n",
       "      <td>...</td>\n",
       "      <td>...</td>\n",
       "      <td>...</td>\n",
       "      <td>...</td>\n",
       "      <td>...</td>\n",
       "      <td>...</td>\n",
       "      <td>...</td>\n",
       "    </tr>\n",
       "    <tr>\n",
       "      <th>21702</th>\n",
       "      <td>630</td>\n",
       "      <td>0.40</td>\n",
       "      <td>4</td>\n",
       "      <td>3</td>\n",
       "      <td>3</td>\n",
       "      <td>62.9</td>\n",
       "      <td>57.0</td>\n",
       "      <td>4.68</td>\n",
       "      <td>4.70</td>\n",
       "      <td>2.95</td>\n",
       "    </tr>\n",
       "    <tr>\n",
       "      <th>21703</th>\n",
       "      <td>2977</td>\n",
       "      <td>0.81</td>\n",
       "      <td>2</td>\n",
       "      <td>2</td>\n",
       "      <td>2</td>\n",
       "      <td>61.9</td>\n",
       "      <td>57.0</td>\n",
       "      <td>5.98</td>\n",
       "      <td>6.01</td>\n",
       "      <td>3.71</td>\n",
       "    </tr>\n",
       "    <tr>\n",
       "      <th>21704</th>\n",
       "      <td>6443</td>\n",
       "      <td>1.36</td>\n",
       "      <td>2</td>\n",
       "      <td>0</td>\n",
       "      <td>3</td>\n",
       "      <td>61.2</td>\n",
       "      <td>57.0</td>\n",
       "      <td>7.15</td>\n",
       "      <td>7.19</td>\n",
       "      <td>4.39</td>\n",
       "    </tr>\n",
       "    <tr>\n",
       "      <th>21705</th>\n",
       "      <td>11487</td>\n",
       "      <td>1.51</td>\n",
       "      <td>1</td>\n",
       "      <td>1</td>\n",
       "      <td>2</td>\n",
       "      <td>62.8</td>\n",
       "      <td>59.0</td>\n",
       "      <td>7.16</td>\n",
       "      <td>7.20</td>\n",
       "      <td>4.51</td>\n",
       "    </tr>\n",
       "    <tr>\n",
       "      <th>21706</th>\n",
       "      <td>14799</td>\n",
       "      <td>2.01</td>\n",
       "      <td>0</td>\n",
       "      <td>3</td>\n",
       "      <td>3</td>\n",
       "      <td>63.8</td>\n",
       "      <td>59.0</td>\n",
       "      <td>7.77</td>\n",
       "      <td>7.87</td>\n",
       "      <td>4.99</td>\n",
       "    </tr>\n",
       "  </tbody>\n",
       "</table>\n",
       "<p>21707 rows × 10 columns</p>\n",
       "</div>"
      ],
      "text/plain": [
       "       price  carat  cut  color  clarity  depth  table     x     y     z\n",
       "0        878   0.30    3      3        7   62.9   55.0  4.28  4.24  2.68\n",
       "1       3183   0.70    3      0        4   60.9   60.0  5.75  5.71  3.49\n",
       "2        624   0.30    2      3        4   62.0   56.0  4.29  4.32  2.67\n",
       "3        743   0.33    3      4        4   61.9   58.0  4.45  4.43  2.75\n",
       "4        526   0.25    4      2        1   63.3   59.0  3.99  4.04  2.54\n",
       "...      ...    ...  ...    ...      ...    ...    ...   ...   ...   ...\n",
       "21702    630   0.40    4      3        3   62.9   57.0  4.68  4.70  2.95\n",
       "21703   2977   0.81    2      2        2   61.9   57.0  5.98  6.01  3.71\n",
       "21704   6443   1.36    2      0        3   61.2   57.0  7.15  7.19  4.39\n",
       "21705  11487   1.51    1      1        2   62.8   59.0  7.16  7.20  4.51\n",
       "21706  14799   2.01    0      3        3   63.8   59.0  7.77  7.87  4.99\n",
       "\n",
       "[21707 rows x 10 columns]"
      ]
     },
     "execution_count": 13,
     "metadata": {},
     "output_type": "execute_result"
    }
   ],
   "source": [
    "train"
   ]
  },
  {
   "cell_type": "markdown",
   "id": "0780e752",
   "metadata": {},
   "source": [
    "Chapter 2 : XGBoost & LightGBM"
   ]
  },
  {
   "cell_type": "markdown",
   "id": "252bb1d9",
   "metadata": {},
   "source": [
    "문제1. 항상 동일한 결과를 얻기 위하여 Seed를 고정해주세요 (Seed: 3031)"
   ]
  },
  {
   "cell_type": "code",
   "execution_count": 14,
   "id": "82c8e05c",
   "metadata": {},
   "outputs": [],
   "source": [
    "import numpy as np\n",
    "\n",
    "np.random.seed(3031) # Numpy로 시드 설정"
   ]
  },
  {
   "cell_type": "markdown",
   "id": "1bf6d68c",
   "metadata": {},
   "source": [
    "문제2. Train 데이터를 5개의 Fold로 분리하세요."
   ]
  },
  {
   "cell_type": "code",
   "execution_count": 15,
   "id": "5c8b3a7d",
   "metadata": {},
   "outputs": [
    {
     "data": {
      "text/plain": [
       "<generator object _BaseKFold.split at 0x000002528D3932E0>"
      ]
     },
     "execution_count": 15,
     "metadata": {},
     "output_type": "execute_result"
    }
   ],
   "source": [
    "from sklearn.model_selection import KFold\n",
    "\n",
    "train_input = train.drop(columns=['price']) # 독립변수 : price를 제외한 나머지 변수들\n",
    "train_target = train['price'] # 종속변수 : 예측해야 할 price 변수\n",
    "\n",
    "kf = KFold(n_splits=5, shuffle=True) # 5개의 fold로 분리하는 KFold 객체로\n",
    "kf.split(train_input, train_target) # 훈련데이터의 input과 target을 분리"
   ]
  },
  {
   "cell_type": "markdown",
   "id": "300b1679",
   "metadata": {},
   "source": [
    "문제2. XGboost와 LightGBM이 어떤 모델인지 살펴보고, 트리를 분기함에 있어 어떠한 특징을 가지는지 \n",
    "간단하게 설명해주세요."
   ]
  },
  {
   "cell_type": "markdown",
   "id": "646f26e2",
   "metadata": {},
   "source": [
    "XGBoost는 Gradient Boosting 알고리즘을 분산환경에서도 실행할 수 있도록 구현해놓은 라이브러리이다.\n",
    "Regression, Classification 문제를 모두 지원하며, 성능과 자원 효율이 좋아서, 인기 있게 사용되는 알고리즘이다.\n",
    "XGBoost는 여러개의 Decision Tree를 조합해서 사용하는 Ensemble 알고리즘이다.\n",
    "Boosting 기법을 이용하여 구현한 알고리즘은 Gradient Boost 가 대표적인데\n",
    "이 알고리즘을 병렬  학습이 지원되도록 구현한 라이브러리가 XGBoost 이다.\n",
    "\n",
    "#https://bcho.tistory.com/1354\n",
    "\n",
    "XGBoost는 분류, 회귀 문제에 모두 사용할 수 있는 강력한 모델입니다.\n",
    "각 이터레이션에서 맞추지 못한 데이터에 가중치를 부여하여 모델을 학습시키는 부스팅(Boosting) 계열의 트리 모델입니다.\n",
    "강력한 병렬 처리 성능과 자동 가지치기 알고리즘이 적용되어 Gradient Boosting Model 대비 빠른 속도를 갖습니다.\n",
    "과적합 규제 기능(Regularization)의 이점이 있습니다.\n",
    "또한 자체 교차 검증 알고리즘과 결측치 처리 기능을 가지고 있습니다.\n",
    "균형 트리 분할 방식으로 모델을 학습하여 대칭적인 트리를 형성합니다.\n",
    "\n",
    "#https://leehah0908.tistory.com/15\n",
    "\n",
    "LightGBM의 메인 기술은 GOSS(Gradient-based One-Side Sampling)입니다. GOSS는 Information gain을 계산할 때 기울기가 작은(가중치가 작은)개체에 승수 상수를 적용하여 데이터를 증폭시킵니다.\n",
    "이렇게 함으로써 데이터 분포를 많이 변경하지 안혹도 훈련이 덜 된 개체에 초점을 보다 잘 맞출 수 있습니다.\n",
    "일반 GBM 계열의 트리는 level-wise(균형 트리 분할) 방식을 채택합니다. 항상 균형을 이루며 2진 분할을 하고 있습니다.\n",
    "반면 LightGBM에서 채택한 leaf-wise(리프 중심 트리 분할)은 트리가 깊어지면서 소요되는 시간과 메모리 모두를 절약 할 수 있었습니다.\n",
    "\n",
    "#https://statinknu.tistory.com/33"
   ]
  },
  {
   "cell_type": "markdown",
   "id": "9a93f780",
   "metadata": {},
   "source": [
    "문제3. XGBoost와 LightGBM 패키지를 불러와주세요."
   ]
  },
  {
   "cell_type": "code",
   "execution_count": 16,
   "id": "78b54de8",
   "metadata": {},
   "outputs": [],
   "source": [
    "from xgboost import XGBRegressor\n",
    "from lightgbm import LGBMRegressor"
   ]
  },
  {
   "cell_type": "markdown",
   "id": "6d35370b",
   "metadata": {},
   "source": [
    "문제4. XGBoost와 LightGBM모델에서는 굉장히 하이퍼파라미터가 사용되고 있습니다. XGBoost와\n",
    "LightGBM에 사용되는 하이퍼파라미터에는 무엇이 있으며, 각 하이퍼파라미터가 의미하는 바는 무엇인\n",
    "지 서술해주세요."
   ]
  },
  {
   "cell_type": "markdown",
   "id": "be06cf18",
   "metadata": {},
   "source": [
    "XGBoost 모델의 주요 하이퍼파라미터는 아래와 같다. (사이킷런 API 기준)\n",
    "\n",
    "--- 부스터 파라미터 ---\n",
    "\n",
    "learning_rate : 학습률을 조정하는 파라미터로 0~1 사이의 값을 지정함.\n",
    "n_estimators : 앙상블할 '약한 학습기(weak learner)'의 개수를 지정함. 개수 많을수록 성능이 일정수준까지 좋아지지만 수행시간 늘어남.\n",
    "max_depth : 트리를 성장시킬 최대 깊이를 지정함. 보통 3~10 사이의 값을 적용함.\n",
    "min_child_weight : 트리에서 추가적으로 가지를 나눌지 결정하기 위해 필요한 데이터들의 weight 총합을 설정함. 과적합을 조절하기 위한 것이며, 값이 클수록 분할을 자제함.\n",
    "gamma : 트리의 리프노드를 추가적으로 나눌지 결정할 최소 손실 감소값을 설정함. 이 값보다 손실이 크게 감소되어야 리프노드를 분할하는 것. 값이 클수록 과적합이 감소하는 효과가 있음.\n",
    "early_stopping_rounds : 조기종료를 위한 반복횟수를 설정함. 여기서 설정한 N번 반복하는 동안 성능평가지표가 향상되지 않으면 반복을 멈춤.\n",
    "subsample : 트리가 커져서 과적합되는 것을 제어하기 위한 데이터 샘플링 비율을 지정함. 0~1 사이의 값으로 설정할 수 있는데, 예를 들어 0.5로 지정하면 전체 데이터 절반을 트리 생성에 사용함.\n",
    "colsample_bytree : GBM의 max_features와 유사한 것으로, 트리 생성에 필요한 feature를 임의로 샘플링하는 데 사용함. feature가 많은 경우 이 설정을 하면 과적합을 조정할 수 있음.\n",
    "--- 학습 파라미터 ---\n",
    "\n",
    "objective : 최솟값을 가져야 할 손실함수를 설정함. 이진분류, 다중분류 등에 따라 다양한 손실함수를 사용할 수 있음.\n",
    "eval_metric : 검증에 사용하는 함수를 설정함. 회귀는 rmse가 기본이고, 분류는 error가 기본임.\n",
    "\n",
    "2) LightGBM 모델의 하이퍼파라미터\n",
    "LightGBM 모델의 주요 하이퍼파라미터는 아래와 같다. (사이킷런 API 기준)\n",
    "\n",
    "--- 부스터 파라미터 ---\n",
    "\n",
    "learning_rate : (마찬가지로) 학습률을 조정하는 파라미터로 0~1 사이의 값을 지정함.\n",
    "n_estimators : (마찬가지로) 앙상블할 '약한 학습기(weak learner)'의 개수를 지정함. 개수 많을수록 성능이 일정수준까지 좋아지지만 수행시간 늘어남.\n",
    "max_depth : 트리를 성장시킬 최대 깊이를 지정함. LightGBM은 leaf wise 기반 모델이므로 깊이가 상대적으로 더 깊음.\n",
    "min_child_samples : 리프노드(최종 결정 클래스)가 되기 위해서 최소한으로 필요한 레코드 수를 설정함. 역시 과적합을 조절하기 위한 파라미터임.\n",
    "num_leaves : 하나의 트리가 가질 수있는 최대 리프 개수를 설정함. 기본값은 31임.\n",
    "subsample : (마찬가지로) 트리가 커져서 과적합되는 것을 제어하기 위한 데이터 샘플링 비율을 지정함. 0~1 사이의 값으로 설정할 수 있는데, 예를 들어 0.5로 지정하면 전체 데이터 절반을 트리 생성에 사용함.\n",
    "colsample_bytree : (마찬가지로) 트리 생성에 필요한 feature를 임의로 샘플링하는 데 사용함. feature가 많은 경우 이 설정을 하면 과적합을 조정할 수 있음.\n",
    "--- 학습 파라미터 ---\n",
    "\n",
    "objective : (마찬가지로) 최솟값을 가져야 할 손실함수를 설정함. 이진분류, 다중분류 등에 따라 다양한 손실함수를 사용할 수 있고, 기본값은 'reg:linear'임.\n",
    "eval_metric : (마찬가지로) 검증에 사용하는 함수를 설정함. 회귀는 rmse가 기본이고, 분류는 error가 기본임."
   ]
  },
  {
   "cell_type": "markdown",
   "id": "53d8f61e",
   "metadata": {},
   "source": [
    "문제5. GridSearch를 통해 하이퍼파라미터 튜닝을 진행하도록 하겠습니다."
   ]
  },
  {
   "cell_type": "code",
   "execution_count": 22,
   "id": "f6ec9bb2",
   "metadata": {},
   "outputs": [],
   "source": [
    "from sklearn.model_selection import GridSearchCV\n",
    "from sklearn.metrics import make_scorer, mean_squared_error\n",
    "\n",
    "params = {'n_estimators':[300, 400, 500], 'max_depth':[2,4,6], 'learning_rate' : [0.05,0.1,0.2]} # 하이퍼파라미터 후보들 설정\n",
    "gs1 = GridSearchCV(XGBRegressor(), params, n_jobs=-1, scoring=make_scorer(mean_squared_error, greater_is_better=False))\n",
    "\n",
    "# [참고] scoring='neg_mean_squared_error'로도 평가지표를 RMSE로 설정할 수 있다고 함"
   ]
  },
  {
   "cell_type": "code",
   "execution_count": 23,
   "id": "3b3034ba",
   "metadata": {},
   "outputs": [
    {
     "data": {
      "text/html": [
       "<style>#sk-container-id-2 {color: black;background-color: white;}#sk-container-id-2 pre{padding: 0;}#sk-container-id-2 div.sk-toggleable {background-color: white;}#sk-container-id-2 label.sk-toggleable__label {cursor: pointer;display: block;width: 100%;margin-bottom: 0;padding: 0.3em;box-sizing: border-box;text-align: center;}#sk-container-id-2 label.sk-toggleable__label-arrow:before {content: \"▸\";float: left;margin-right: 0.25em;color: #696969;}#sk-container-id-2 label.sk-toggleable__label-arrow:hover:before {color: black;}#sk-container-id-2 div.sk-estimator:hover label.sk-toggleable__label-arrow:before {color: black;}#sk-container-id-2 div.sk-toggleable__content {max-height: 0;max-width: 0;overflow: hidden;text-align: left;background-color: #f0f8ff;}#sk-container-id-2 div.sk-toggleable__content pre {margin: 0.2em;color: black;border-radius: 0.25em;background-color: #f0f8ff;}#sk-container-id-2 input.sk-toggleable__control:checked~div.sk-toggleable__content {max-height: 200px;max-width: 100%;overflow: auto;}#sk-container-id-2 input.sk-toggleable__control:checked~label.sk-toggleable__label-arrow:before {content: \"▾\";}#sk-container-id-2 div.sk-estimator input.sk-toggleable__control:checked~label.sk-toggleable__label {background-color: #d4ebff;}#sk-container-id-2 div.sk-label input.sk-toggleable__control:checked~label.sk-toggleable__label {background-color: #d4ebff;}#sk-container-id-2 input.sk-hidden--visually {border: 0;clip: rect(1px 1px 1px 1px);clip: rect(1px, 1px, 1px, 1px);height: 1px;margin: -1px;overflow: hidden;padding: 0;position: absolute;width: 1px;}#sk-container-id-2 div.sk-estimator {font-family: monospace;background-color: #f0f8ff;border: 1px dotted black;border-radius: 0.25em;box-sizing: border-box;margin-bottom: 0.5em;}#sk-container-id-2 div.sk-estimator:hover {background-color: #d4ebff;}#sk-container-id-2 div.sk-parallel-item::after {content: \"\";width: 100%;border-bottom: 1px solid gray;flex-grow: 1;}#sk-container-id-2 div.sk-label:hover label.sk-toggleable__label {background-color: #d4ebff;}#sk-container-id-2 div.sk-serial::before {content: \"\";position: absolute;border-left: 1px solid gray;box-sizing: border-box;top: 0;bottom: 0;left: 50%;z-index: 0;}#sk-container-id-2 div.sk-serial {display: flex;flex-direction: column;align-items: center;background-color: white;padding-right: 0.2em;padding-left: 0.2em;position: relative;}#sk-container-id-2 div.sk-item {position: relative;z-index: 1;}#sk-container-id-2 div.sk-parallel {display: flex;align-items: stretch;justify-content: center;background-color: white;position: relative;}#sk-container-id-2 div.sk-item::before, #sk-container-id-2 div.sk-parallel-item::before {content: \"\";position: absolute;border-left: 1px solid gray;box-sizing: border-box;top: 0;bottom: 0;left: 50%;z-index: -1;}#sk-container-id-2 div.sk-parallel-item {display: flex;flex-direction: column;z-index: 1;position: relative;background-color: white;}#sk-container-id-2 div.sk-parallel-item:first-child::after {align-self: flex-end;width: 50%;}#sk-container-id-2 div.sk-parallel-item:last-child::after {align-self: flex-start;width: 50%;}#sk-container-id-2 div.sk-parallel-item:only-child::after {width: 0;}#sk-container-id-2 div.sk-dashed-wrapped {border: 1px dashed gray;margin: 0 0.4em 0.5em 0.4em;box-sizing: border-box;padding-bottom: 0.4em;background-color: white;}#sk-container-id-2 div.sk-label label {font-family: monospace;font-weight: bold;display: inline-block;line-height: 1.2em;}#sk-container-id-2 div.sk-label-container {text-align: center;}#sk-container-id-2 div.sk-container {/* jupyter's `normalize.less` sets `[hidden] { display: none; }` but bootstrap.min.css set `[hidden] { display: none !important; }` so we also need the `!important` here to be able to override the default hidden behavior on the sphinx rendered scikit-learn.org. See: https://github.com/scikit-learn/scikit-learn/issues/21755 */display: inline-block !important;position: relative;}#sk-container-id-2 div.sk-text-repr-fallback {display: none;}</style><div id=\"sk-container-id-2\" class=\"sk-top-container\"><div class=\"sk-text-repr-fallback\"><pre>GridSearchCV(estimator=XGBRegressor(base_score=None, booster=None,\n",
       "                                    callbacks=None, colsample_bylevel=None,\n",
       "                                    colsample_bynode=None,\n",
       "                                    colsample_bytree=None,\n",
       "                                    early_stopping_rounds=None,\n",
       "                                    enable_categorical=False, eval_metric=None,\n",
       "                                    feature_types=None, gamma=None, gpu_id=None,\n",
       "                                    grow_policy=None, importance_type=None,\n",
       "                                    interaction_constraints=None,\n",
       "                                    learning_rate=None, max_bi...\n",
       "                                    max_cat_to_onehot=None, max_delta_step=None,\n",
       "                                    max_depth=None, max_leaves=None,\n",
       "                                    min_child_weight=None, missing=nan,\n",
       "                                    monotone_constraints=None, n_estimators=100,\n",
       "                                    n_jobs=None, num_parallel_tree=None,\n",
       "                                    predictor=None, random_state=None, ...),\n",
       "             n_jobs=-1,\n",
       "             param_grid={&#x27;learning_rate&#x27;: [0.05, 0.1, 0.2],\n",
       "                         &#x27;max_depth&#x27;: [2, 4, 6],\n",
       "                         &#x27;n_estimators&#x27;: [300, 400, 500]},\n",
       "             scoring=make_scorer(mean_squared_error, greater_is_better=False))</pre><b>In a Jupyter environment, please rerun this cell to show the HTML representation or trust the notebook. <br />On GitHub, the HTML representation is unable to render, please try loading this page with nbviewer.org.</b></div><div class=\"sk-container\" hidden><div class=\"sk-item sk-dashed-wrapped\"><div class=\"sk-label-container\"><div class=\"sk-label sk-toggleable\"><input class=\"sk-toggleable__control sk-hidden--visually\" id=\"sk-estimator-id-4\" type=\"checkbox\" ><label for=\"sk-estimator-id-4\" class=\"sk-toggleable__label sk-toggleable__label-arrow\">GridSearchCV</label><div class=\"sk-toggleable__content\"><pre>GridSearchCV(estimator=XGBRegressor(base_score=None, booster=None,\n",
       "                                    callbacks=None, colsample_bylevel=None,\n",
       "                                    colsample_bynode=None,\n",
       "                                    colsample_bytree=None,\n",
       "                                    early_stopping_rounds=None,\n",
       "                                    enable_categorical=False, eval_metric=None,\n",
       "                                    feature_types=None, gamma=None, gpu_id=None,\n",
       "                                    grow_policy=None, importance_type=None,\n",
       "                                    interaction_constraints=None,\n",
       "                                    learning_rate=None, max_bi...\n",
       "                                    max_cat_to_onehot=None, max_delta_step=None,\n",
       "                                    max_depth=None, max_leaves=None,\n",
       "                                    min_child_weight=None, missing=nan,\n",
       "                                    monotone_constraints=None, n_estimators=100,\n",
       "                                    n_jobs=None, num_parallel_tree=None,\n",
       "                                    predictor=None, random_state=None, ...),\n",
       "             n_jobs=-1,\n",
       "             param_grid={&#x27;learning_rate&#x27;: [0.05, 0.1, 0.2],\n",
       "                         &#x27;max_depth&#x27;: [2, 4, 6],\n",
       "                         &#x27;n_estimators&#x27;: [300, 400, 500]},\n",
       "             scoring=make_scorer(mean_squared_error, greater_is_better=False))</pre></div></div></div><div class=\"sk-parallel\"><div class=\"sk-parallel-item\"><div class=\"sk-item\"><div class=\"sk-label-container\"><div class=\"sk-label sk-toggleable\"><input class=\"sk-toggleable__control sk-hidden--visually\" id=\"sk-estimator-id-5\" type=\"checkbox\" ><label for=\"sk-estimator-id-5\" class=\"sk-toggleable__label sk-toggleable__label-arrow\">estimator: XGBRegressor</label><div class=\"sk-toggleable__content\"><pre>XGBRegressor(base_score=None, booster=None, callbacks=None,\n",
       "             colsample_bylevel=None, colsample_bynode=None,\n",
       "             colsample_bytree=None, early_stopping_rounds=None,\n",
       "             enable_categorical=False, eval_metric=None, feature_types=None,\n",
       "             gamma=None, gpu_id=None, grow_policy=None, importance_type=None,\n",
       "             interaction_constraints=None, learning_rate=None, max_bin=None,\n",
       "             max_cat_threshold=None, max_cat_to_onehot=None,\n",
       "             max_delta_step=None, max_depth=None, max_leaves=None,\n",
       "             min_child_weight=None, missing=nan, monotone_constraints=None,\n",
       "             n_estimators=100, n_jobs=None, num_parallel_tree=None,\n",
       "             predictor=None, random_state=None, ...)</pre></div></div></div><div class=\"sk-serial\"><div class=\"sk-item\"><div class=\"sk-estimator sk-toggleable\"><input class=\"sk-toggleable__control sk-hidden--visually\" id=\"sk-estimator-id-6\" type=\"checkbox\" ><label for=\"sk-estimator-id-6\" class=\"sk-toggleable__label sk-toggleable__label-arrow\">XGBRegressor</label><div class=\"sk-toggleable__content\"><pre>XGBRegressor(base_score=None, booster=None, callbacks=None,\n",
       "             colsample_bylevel=None, colsample_bynode=None,\n",
       "             colsample_bytree=None, early_stopping_rounds=None,\n",
       "             enable_categorical=False, eval_metric=None, feature_types=None,\n",
       "             gamma=None, gpu_id=None, grow_policy=None, importance_type=None,\n",
       "             interaction_constraints=None, learning_rate=None, max_bin=None,\n",
       "             max_cat_threshold=None, max_cat_to_onehot=None,\n",
       "             max_delta_step=None, max_depth=None, max_leaves=None,\n",
       "             min_child_weight=None, missing=nan, monotone_constraints=None,\n",
       "             n_estimators=100, n_jobs=None, num_parallel_tree=None,\n",
       "             predictor=None, random_state=None, ...)</pre></div></div></div></div></div></div></div></div></div></div>"
      ],
      "text/plain": [
       "GridSearchCV(estimator=XGBRegressor(base_score=None, booster=None,\n",
       "                                    callbacks=None, colsample_bylevel=None,\n",
       "                                    colsample_bynode=None,\n",
       "                                    colsample_bytree=None,\n",
       "                                    early_stopping_rounds=None,\n",
       "                                    enable_categorical=False, eval_metric=None,\n",
       "                                    feature_types=None, gamma=None, gpu_id=None,\n",
       "                                    grow_policy=None, importance_type=None,\n",
       "                                    interaction_constraints=None,\n",
       "                                    learning_rate=None, max_bi...\n",
       "                                    max_cat_to_onehot=None, max_delta_step=None,\n",
       "                                    max_depth=None, max_leaves=None,\n",
       "                                    min_child_weight=None, missing=nan,\n",
       "                                    monotone_constraints=None, n_estimators=100,\n",
       "                                    n_jobs=None, num_parallel_tree=None,\n",
       "                                    predictor=None, random_state=None, ...),\n",
       "             n_jobs=-1,\n",
       "             param_grid={'learning_rate': [0.05, 0.1, 0.2],\n",
       "                         'max_depth': [2, 4, 6],\n",
       "                         'n_estimators': [300, 400, 500]},\n",
       "             scoring=make_scorer(mean_squared_error, greater_is_better=False))"
      ]
     },
     "execution_count": 23,
     "metadata": {},
     "output_type": "execute_result"
    }
   ],
   "source": [
    "gs1.fit(train_input, train_target)"
   ]
  },
  {
   "cell_type": "code",
   "execution_count": 19,
   "id": "884ed7e5",
   "metadata": {},
   "outputs": [],
   "source": [
    "# LGBM에서 gridsearch 수행\n",
    "\n",
    "params = {'n_estimators':[300, 400, 500], 'max_depth':[2,4,6], 'learning_rate' : [0.05,0.1,0.2]} # 하이퍼파라미터 후보들 설정\n",
    "gs2 = GridSearchCV(LGBMRegressor(), params, n_jobs=-1, scoring=make_scorer(mean_squared_error, greater_is_better=False))"
   ]
  },
  {
   "cell_type": "code",
   "execution_count": 20,
   "id": "f16a300d",
   "metadata": {},
   "outputs": [
    {
     "data": {
      "text/html": [
       "<style>#sk-container-id-1 {color: black;background-color: white;}#sk-container-id-1 pre{padding: 0;}#sk-container-id-1 div.sk-toggleable {background-color: white;}#sk-container-id-1 label.sk-toggleable__label {cursor: pointer;display: block;width: 100%;margin-bottom: 0;padding: 0.3em;box-sizing: border-box;text-align: center;}#sk-container-id-1 label.sk-toggleable__label-arrow:before {content: \"▸\";float: left;margin-right: 0.25em;color: #696969;}#sk-container-id-1 label.sk-toggleable__label-arrow:hover:before {color: black;}#sk-container-id-1 div.sk-estimator:hover label.sk-toggleable__label-arrow:before {color: black;}#sk-container-id-1 div.sk-toggleable__content {max-height: 0;max-width: 0;overflow: hidden;text-align: left;background-color: #f0f8ff;}#sk-container-id-1 div.sk-toggleable__content pre {margin: 0.2em;color: black;border-radius: 0.25em;background-color: #f0f8ff;}#sk-container-id-1 input.sk-toggleable__control:checked~div.sk-toggleable__content {max-height: 200px;max-width: 100%;overflow: auto;}#sk-container-id-1 input.sk-toggleable__control:checked~label.sk-toggleable__label-arrow:before {content: \"▾\";}#sk-container-id-1 div.sk-estimator input.sk-toggleable__control:checked~label.sk-toggleable__label {background-color: #d4ebff;}#sk-container-id-1 div.sk-label input.sk-toggleable__control:checked~label.sk-toggleable__label {background-color: #d4ebff;}#sk-container-id-1 input.sk-hidden--visually {border: 0;clip: rect(1px 1px 1px 1px);clip: rect(1px, 1px, 1px, 1px);height: 1px;margin: -1px;overflow: hidden;padding: 0;position: absolute;width: 1px;}#sk-container-id-1 div.sk-estimator {font-family: monospace;background-color: #f0f8ff;border: 1px dotted black;border-radius: 0.25em;box-sizing: border-box;margin-bottom: 0.5em;}#sk-container-id-1 div.sk-estimator:hover {background-color: #d4ebff;}#sk-container-id-1 div.sk-parallel-item::after {content: \"\";width: 100%;border-bottom: 1px solid gray;flex-grow: 1;}#sk-container-id-1 div.sk-label:hover label.sk-toggleable__label {background-color: #d4ebff;}#sk-container-id-1 div.sk-serial::before {content: \"\";position: absolute;border-left: 1px solid gray;box-sizing: border-box;top: 0;bottom: 0;left: 50%;z-index: 0;}#sk-container-id-1 div.sk-serial {display: flex;flex-direction: column;align-items: center;background-color: white;padding-right: 0.2em;padding-left: 0.2em;position: relative;}#sk-container-id-1 div.sk-item {position: relative;z-index: 1;}#sk-container-id-1 div.sk-parallel {display: flex;align-items: stretch;justify-content: center;background-color: white;position: relative;}#sk-container-id-1 div.sk-item::before, #sk-container-id-1 div.sk-parallel-item::before {content: \"\";position: absolute;border-left: 1px solid gray;box-sizing: border-box;top: 0;bottom: 0;left: 50%;z-index: -1;}#sk-container-id-1 div.sk-parallel-item {display: flex;flex-direction: column;z-index: 1;position: relative;background-color: white;}#sk-container-id-1 div.sk-parallel-item:first-child::after {align-self: flex-end;width: 50%;}#sk-container-id-1 div.sk-parallel-item:last-child::after {align-self: flex-start;width: 50%;}#sk-container-id-1 div.sk-parallel-item:only-child::after {width: 0;}#sk-container-id-1 div.sk-dashed-wrapped {border: 1px dashed gray;margin: 0 0.4em 0.5em 0.4em;box-sizing: border-box;padding-bottom: 0.4em;background-color: white;}#sk-container-id-1 div.sk-label label {font-family: monospace;font-weight: bold;display: inline-block;line-height: 1.2em;}#sk-container-id-1 div.sk-label-container {text-align: center;}#sk-container-id-1 div.sk-container {/* jupyter's `normalize.less` sets `[hidden] { display: none; }` but bootstrap.min.css set `[hidden] { display: none !important; }` so we also need the `!important` here to be able to override the default hidden behavior on the sphinx rendered scikit-learn.org. See: https://github.com/scikit-learn/scikit-learn/issues/21755 */display: inline-block !important;position: relative;}#sk-container-id-1 div.sk-text-repr-fallback {display: none;}</style><div id=\"sk-container-id-1\" class=\"sk-top-container\"><div class=\"sk-text-repr-fallback\"><pre>GridSearchCV(estimator=LGBMRegressor(), n_jobs=-1,\n",
       "             param_grid={&#x27;learning_rate&#x27;: [0.05, 0.1, 0.2],\n",
       "                         &#x27;max_depth&#x27;: [2, 4, 6],\n",
       "                         &#x27;n_estimators&#x27;: [300, 400, 500]},\n",
       "             scoring=make_scorer(mean_squared_error, greater_is_better=False))</pre><b>In a Jupyter environment, please rerun this cell to show the HTML representation or trust the notebook. <br />On GitHub, the HTML representation is unable to render, please try loading this page with nbviewer.org.</b></div><div class=\"sk-container\" hidden><div class=\"sk-item sk-dashed-wrapped\"><div class=\"sk-label-container\"><div class=\"sk-label sk-toggleable\"><input class=\"sk-toggleable__control sk-hidden--visually\" id=\"sk-estimator-id-1\" type=\"checkbox\" ><label for=\"sk-estimator-id-1\" class=\"sk-toggleable__label sk-toggleable__label-arrow\">GridSearchCV</label><div class=\"sk-toggleable__content\"><pre>GridSearchCV(estimator=LGBMRegressor(), n_jobs=-1,\n",
       "             param_grid={&#x27;learning_rate&#x27;: [0.05, 0.1, 0.2],\n",
       "                         &#x27;max_depth&#x27;: [2, 4, 6],\n",
       "                         &#x27;n_estimators&#x27;: [300, 400, 500]},\n",
       "             scoring=make_scorer(mean_squared_error, greater_is_better=False))</pre></div></div></div><div class=\"sk-parallel\"><div class=\"sk-parallel-item\"><div class=\"sk-item\"><div class=\"sk-label-container\"><div class=\"sk-label sk-toggleable\"><input class=\"sk-toggleable__control sk-hidden--visually\" id=\"sk-estimator-id-2\" type=\"checkbox\" ><label for=\"sk-estimator-id-2\" class=\"sk-toggleable__label sk-toggleable__label-arrow\">estimator: LGBMRegressor</label><div class=\"sk-toggleable__content\"><pre>LGBMRegressor()</pre></div></div></div><div class=\"sk-serial\"><div class=\"sk-item\"><div class=\"sk-estimator sk-toggleable\"><input class=\"sk-toggleable__control sk-hidden--visually\" id=\"sk-estimator-id-3\" type=\"checkbox\" ><label for=\"sk-estimator-id-3\" class=\"sk-toggleable__label sk-toggleable__label-arrow\">LGBMRegressor</label><div class=\"sk-toggleable__content\"><pre>LGBMRegressor()</pre></div></div></div></div></div></div></div></div></div></div>"
      ],
      "text/plain": [
       "GridSearchCV(estimator=LGBMRegressor(), n_jobs=-1,\n",
       "             param_grid={'learning_rate': [0.05, 0.1, 0.2],\n",
       "                         'max_depth': [2, 4, 6],\n",
       "                         'n_estimators': [300, 400, 500]},\n",
       "             scoring=make_scorer(mean_squared_error, greater_is_better=False))"
      ]
     },
     "execution_count": 20,
     "metadata": {},
     "output_type": "execute_result"
    }
   ],
   "source": [
    "gs2.fit(train_input, train_target)"
   ]
  },
  {
   "cell_type": "markdown",
   "id": "b81f9d80",
   "metadata": {},
   "source": [
    "문제7. GridSearch 결과 RMSE가 낮은 파라미터 조합을 각 모델별로 찾고, 해당 결과로 모델을 다시 \n",
    "학습시키세요."
   ]
  },
  {
   "cell_type": "code",
   "execution_count": 45,
   "id": "5492f1dc",
   "metadata": {},
   "outputs": [
    {
     "name": "stdout",
     "output_type": "stream",
     "text": [
      "xgb사용시 RMSE가 가장 낮은 파라미터 조합과 그때의 best estimator {'learning_rate': 0.05, 'max_depth': 6, 'n_estimators': 400}, 0.9919\n",
      "lgb사용시 RMSE가 가장 낮은 파라미터 조합과 그때의 best estimator {'learning_rate': 0.05, 'max_depth': 6, 'n_estimators': 400}, 0.9880\n"
     ]
    }
   ],
   "source": [
    "best_params_xgb = gs1.best_params_\n",
    "# 최적의 파라미터를 다시 param_grid에 넣어서 학습시켜도 되지만, GridSearchCV에서는 그 파라미터로 학습한 최적의 모델을 반환해준다!\n",
    "gs1_best = gs1.best_estimator_\n",
    "best_est_xgb = gs1_best.score(train_input, train_target)\n",
    "\n",
    "best_params_lgb = gs2.best_params_\n",
    "gs2_best = gs2.best_estimator_\n",
    "best_est_lgb = gs2_best.score(train_input, train_target)\n",
    "\n",
    "print(\"xgb사용시 RMSE가 가장 낮은 파라미터 조합과 그때의 best estimator {0}, {1:.4f}\". format(best_params_xgb, best_est_xgb))\n",
    "print(\"lgb사용시 RMSE가 가장 낮은 파라미터 조합과 그때의 best estimator {0}, {1:.4f}\". format(best_params_lgb, best_est_lgb))"
   ]
  },
  {
   "cell_type": "markdown",
   "id": "cba2d572",
   "metadata": {},
   "source": [
    "문제8. 각 모델 별 변수의 중요도를 Importance plot으로 시각화하고, 어떤 변수가 보석의 크기에 영향을 미\n",
    "치는지 서술해주세요."
   ]
  },
  {
   "cell_type": "code",
   "execution_count": 46,
   "id": "437eade0",
   "metadata": {},
   "outputs": [
    {
     "name": "stdout",
     "output_type": "stream",
     "text": [
      "[0.34018296 0.00384813 0.02937866 0.05862863 0.00224404 0.00198667\n",
      " 0.00482238 0.5211563  0.03775226]\n"
     ]
    }
   ],
   "source": [
    "print(gs1_best.feature_importances_) # 그냥 출력해보면 뭐가 뭔지 잘 안 보이니까"
   ]
  },
  {
   "cell_type": "code",
   "execution_count": 47,
   "id": "7a133339",
   "metadata": {},
   "outputs": [
    {
     "name": "stdout",
     "output_type": "stream",
     "text": [
      "carat : 0.3402\n",
      "cut : 0.0038\n",
      "color : 0.0294\n",
      "clarity : 0.0586\n",
      "depth : 0.0022\n",
      "table : 0.0020\n",
      "x : 0.0048\n",
      "y : 0.5212\n",
      "z : 0.0378\n"
     ]
    }
   ],
   "source": [
    "import numpy as np\n",
    "# 하나씩 매칭시켜서 확인\n",
    "for name, value in zip(train_input.columns, gs1_best.feature_importances_) :\n",
    "    print('{0} : {1:.4f}'.format(name, value)) "
   ]
  },
  {
   "cell_type": "code",
   "execution_count": 48,
   "id": "ff3a4b42",
   "metadata": {},
   "outputs": [
    {
     "data": {
      "image/png": "[encoded data removed]",
      "text/plain": [
       "<Figure size 640x480 with 1 Axes>"
      ]
     },
     "metadata": {},
     "output_type": "display_data"
    }
   ],
   "source": [
    "# 그리고 plot으로 그려서 확인까지!\n",
    "import seaborn as sns\n",
    "\n",
    "sns.barplot(x=train_input.columns, y=gs1_best.feature_importances_)\n",
    "plt.xticks(rotation=45)\n",
    "plt.title(\"Importance Plot of XGBoost Model\")\n",
    "plt.show()"
   ]
  },
  {
   "cell_type": "markdown",
   "id": "f6a948a8",
   "metadata": {},
   "source": [
    "결과 해석\n",
    "\n",
    "xgboost로 학습한 모델의 특성중요도를 plot으로 그려서 확인해보니, 가장 중요하게 사용된 특성은 y였음!\n",
    "\n",
    "그 다음으로 중요한 특성은 carat이었는데, 이렇게 두 특성에 거의 80% 이상을 의존해서 설명함!"
   ]
  },
  {
   "cell_type": "markdown",
   "id": "9dd1b116",
   "metadata": {},
   "source": [
    "문제9. 학습시킨 모델으로 Test Data를 예측하고, 이를 ‘Sample_submission.csv’의 price 열에 예측 값들을 채워주세요.\n",
    "그 후, ‘Answer.csv’에 있는 Test Data의 실제 price 값과의 Test RMSE를 구한 후, CV를 진행했을 때 얻었던 Train RMSE와 함께 각 모델별로 비교해보세요."
   ]
  },
  {
   "cell_type": "markdown",
   "id": "e4a12837",
   "metadata": {},
   "source": [
    "1) XGBoost"
   ]
  },
  {
   "cell_type": "code",
   "execution_count": 59,
   "id": "fd55f11c",
   "metadata": {},
   "outputs": [
    {
     "data": {
      "text/html": [
       "<div>\n",
       "<style scoped>\n",
       "    .dataframe tbody tr th:only-of-type {\n",
       "        vertical-align: middle;\n",
       "    }\n",
       "\n",
       "    .dataframe tbody tr th {\n",
       "        vertical-align: top;\n",
       "    }\n",
       "\n",
       "    .dataframe thead th {\n",
       "        text-align: right;\n",
       "    }\n",
       "</style>\n",
       "<table border=\"1\" class=\"dataframe\">\n",
       "  <thead>\n",
       "    <tr style=\"text-align: right;\">\n",
       "      <th></th>\n",
       "      <th>ID_code</th>\n",
       "      <th>price</th>\n",
       "    </tr>\n",
       "  </thead>\n",
       "  <tbody>\n",
       "    <tr>\n",
       "      <th>0</th>\n",
       "      <td>test_1</td>\n",
       "      <td>5635.0</td>\n",
       "    </tr>\n",
       "    <tr>\n",
       "      <th>1</th>\n",
       "      <td>test_2</td>\n",
       "      <td>629.0</td>\n",
       "    </tr>\n",
       "    <tr>\n",
       "      <th>2</th>\n",
       "      <td>test_3</td>\n",
       "      <td>531.0</td>\n",
       "    </tr>\n",
       "    <tr>\n",
       "      <th>3</th>\n",
       "      <td>test_4</td>\n",
       "      <td>12079.0</td>\n",
       "    </tr>\n",
       "    <tr>\n",
       "      <th>4</th>\n",
       "      <td>test_5</td>\n",
       "      <td>1323.0</td>\n",
       "    </tr>\n",
       "  </tbody>\n",
       "</table>\n",
       "</div>"
      ],
      "text/plain": [
       "  ID_code    price\n",
       "0  test_1   5635.0\n",
       "1  test_2    629.0\n",
       "2  test_3    531.0\n",
       "3  test_4  12079.0\n",
       "4  test_5   1323.0"
      ]
     },
     "execution_count": 59,
     "metadata": {},
     "output_type": "execute_result"
    }
   ],
   "source": [
    "sample = pd.read_csv('C:/Users/mrg07/Desktop/99shimshim/SKKU/PSAT/클린업/week2/week2_package/Sample_submission.csv')\n",
    "sample['price'] = np.round(gs1_best.predict(test)) #반올림\n",
    "sample.head()"
   ]
  },
  {
   "cell_type": "code",
   "execution_count": 60,
   "id": "4edacd5b",
   "metadata": {},
   "outputs": [
    {
     "data": {
      "text/html": [
       "<div>\n",
       "<style scoped>\n",
       "    .dataframe tbody tr th:only-of-type {\n",
       "        vertical-align: middle;\n",
       "    }\n",
       "\n",
       "    .dataframe tbody tr th {\n",
       "        vertical-align: top;\n",
       "    }\n",
       "\n",
       "    .dataframe thead th {\n",
       "        text-align: right;\n",
       "    }\n",
       "</style>\n",
       "<table border=\"1\" class=\"dataframe\">\n",
       "  <thead>\n",
       "    <tr style=\"text-align: right;\">\n",
       "      <th></th>\n",
       "      <th>ID_code</th>\n",
       "      <th>price</th>\n",
       "    </tr>\n",
       "  </thead>\n",
       "  <tbody>\n",
       "    <tr>\n",
       "      <th>0</th>\n",
       "      <td>test_1</td>\n",
       "      <td>5667</td>\n",
       "    </tr>\n",
       "    <tr>\n",
       "      <th>1</th>\n",
       "      <td>test_2</td>\n",
       "      <td>638</td>\n",
       "    </tr>\n",
       "    <tr>\n",
       "      <th>2</th>\n",
       "      <td>test_3</td>\n",
       "      <td>450</td>\n",
       "    </tr>\n",
       "    <tr>\n",
       "      <th>3</th>\n",
       "      <td>test_4</td>\n",
       "      <td>12764</td>\n",
       "    </tr>\n",
       "    <tr>\n",
       "      <th>4</th>\n",
       "      <td>test_5</td>\n",
       "      <td>1326</td>\n",
       "    </tr>\n",
       "  </tbody>\n",
       "</table>\n",
       "</div>"
      ],
      "text/plain": [
       "  ID_code  price\n",
       "0  test_1   5667\n",
       "1  test_2    638\n",
       "2  test_3    450\n",
       "3  test_4  12764\n",
       "4  test_5   1326"
      ]
     },
     "execution_count": 60,
     "metadata": {},
     "output_type": "execute_result"
    }
   ],
   "source": [
    "answer = pd.read_csv('C:/Users/mrg07/Desktop/99shimshim/SKKU/PSAT/클린업/week2/week2_package/answer.csv')\n",
    "answer.head()"
   ]
  },
  {
   "cell_type": "code",
   "execution_count": 70,
   "id": "75c0ce7d",
   "metadata": {},
   "outputs": [
    {
     "data": {
      "text/plain": [
       "543.6299537516027"
      ]
     },
     "execution_count": 70,
     "metadata": {},
     "output_type": "execute_result"
    }
   ],
   "source": [
    "test_rmse_1 = mean_squared_error(sample['price'], answer['price'], squared=False)\n",
    "test_rmse_1 # 예측값과 정답값의 차이를 RSME로 표현"
   ]
  },
  {
   "cell_type": "code",
   "execution_count": 62,
   "id": "b6011453",
   "metadata": {},
   "outputs": [
    {
     "name": "stdout",
     "output_type": "stream",
     "text": [
      "-304502.46347519575\n"
     ]
    }
   ],
   "source": [
    "print(gs1.best_score_) # `greater_is_better=False`를 설정해줬었기 때문에 음수로 나옴"
   ]
  },
  {
   "cell_type": "code",
   "execution_count": 64,
   "id": "497aee31",
   "metadata": {},
   "outputs": [
    {
     "data": {
      "text/plain": [
       "551.8174186043748"
      ]
     },
     "execution_count": 64,
     "metadata": {},
     "output_type": "execute_result"
    }
   ],
   "source": [
    "train_rmse_1 = -gs1.best_score_\n",
    "train_rsme_1 = np.sqrt(train_rmse_1)\n",
    "train_rsme_1 # 비교할 수 있게 다시 계산해서 RSME로 바꿔줌!"
   ]
  },
  {
   "cell_type": "markdown",
   "id": "4a3dcc32",
   "metadata": {},
   "source": [
    "XGBoost의 경우,\n",
    "Test data로 true value를 예측한 RSME는 약 543.6이고\n",
    "(CV 당시) Train data로 validation data를 예측한 RMSE는 약 551.8이다.\n",
    "따라서, Test data에서 성능이 약간 더 좋은 과소적합이 발생했다고 볼 수 있다.\n",
    "모델을 더 복잡하게 만들기 위해 learning_rate, n_estimators, max_depth 와 같은 파라미터들의 범위를 다르게 제시하거나, subsample 파라미터를 추가해볼 수도 있겠다."
   ]
  },
  {
   "cell_type": "markdown",
   "id": "39b389d6",
   "metadata": {},
   "source": [
    "2) LightGBM"
   ]
  },
  {
   "cell_type": "code",
   "execution_count": 75,
   "id": "7488f519",
   "metadata": {},
   "outputs": [
    {
     "data": {
      "text/html": [
       "<div>\n",
       "<style scoped>\n",
       "    .dataframe tbody tr th:only-of-type {\n",
       "        vertical-align: middle;\n",
       "    }\n",
       "\n",
       "    .dataframe tbody tr th {\n",
       "        vertical-align: top;\n",
       "    }\n",
       "\n",
       "    .dataframe thead th {\n",
       "        text-align: right;\n",
       "    }\n",
       "</style>\n",
       "<table border=\"1\" class=\"dataframe\">\n",
       "  <thead>\n",
       "    <tr style=\"text-align: right;\">\n",
       "      <th></th>\n",
       "      <th>ID_code</th>\n",
       "      <th>price</th>\n",
       "      <th>price1</th>\n",
       "      <th>price_mean</th>\n",
       "    </tr>\n",
       "  </thead>\n",
       "  <tbody>\n",
       "    <tr>\n",
       "      <th>0</th>\n",
       "      <td>test_1</td>\n",
       "      <td>5580.0</td>\n",
       "      <td>5635.0</td>\n",
       "      <td>5635.0</td>\n",
       "    </tr>\n",
       "    <tr>\n",
       "      <th>1</th>\n",
       "      <td>test_2</td>\n",
       "      <td>602.0</td>\n",
       "      <td>629.0</td>\n",
       "      <td>629.0</td>\n",
       "    </tr>\n",
       "    <tr>\n",
       "      <th>2</th>\n",
       "      <td>test_3</td>\n",
       "      <td>570.0</td>\n",
       "      <td>531.0</td>\n",
       "      <td>531.0</td>\n",
       "    </tr>\n",
       "    <tr>\n",
       "      <th>3</th>\n",
       "      <td>test_4</td>\n",
       "      <td>12141.0</td>\n",
       "      <td>12079.0</td>\n",
       "      <td>12079.0</td>\n",
       "    </tr>\n",
       "    <tr>\n",
       "      <th>4</th>\n",
       "      <td>test_5</td>\n",
       "      <td>1320.0</td>\n",
       "      <td>1323.0</td>\n",
       "      <td>1323.0</td>\n",
       "    </tr>\n",
       "  </tbody>\n",
       "</table>\n",
       "</div>"
      ],
      "text/plain": [
       "  ID_code    price   price1  price_mean\n",
       "0  test_1   5580.0   5635.0      5635.0\n",
       "1  test_2    602.0    629.0       629.0\n",
       "2  test_3    570.0    531.0       531.0\n",
       "3  test_4  12141.0  12079.0     12079.0\n",
       "4  test_5   1320.0   1323.0      1323.0"
      ]
     },
     "execution_count": 75,
     "metadata": {},
     "output_type": "execute_result"
    }
   ],
   "source": [
    "sample['price'] = np.round(gs2_best.predict(test)) # LightGBM 모델로 예측한 price를 답안지에 기입\n",
    "sample.head() # 숫자 너무 길어서 반올림해줌"
   ]
  },
  {
   "cell_type": "code",
   "execution_count": 76,
   "id": "bb12ea77",
   "metadata": {},
   "outputs": [
    {
     "data": {
      "text/html": [
       "<div>\n",
       "<style scoped>\n",
       "    .dataframe tbody tr th:only-of-type {\n",
       "        vertical-align: middle;\n",
       "    }\n",
       "\n",
       "    .dataframe tbody tr th {\n",
       "        vertical-align: top;\n",
       "    }\n",
       "\n",
       "    .dataframe thead th {\n",
       "        text-align: right;\n",
       "    }\n",
       "</style>\n",
       "<table border=\"1\" class=\"dataframe\">\n",
       "  <thead>\n",
       "    <tr style=\"text-align: right;\">\n",
       "      <th></th>\n",
       "      <th>ID_code</th>\n",
       "      <th>price</th>\n",
       "    </tr>\n",
       "  </thead>\n",
       "  <tbody>\n",
       "    <tr>\n",
       "      <th>0</th>\n",
       "      <td>test_1</td>\n",
       "      <td>5667</td>\n",
       "    </tr>\n",
       "    <tr>\n",
       "      <th>1</th>\n",
       "      <td>test_2</td>\n",
       "      <td>638</td>\n",
       "    </tr>\n",
       "    <tr>\n",
       "      <th>2</th>\n",
       "      <td>test_3</td>\n",
       "      <td>450</td>\n",
       "    </tr>\n",
       "    <tr>\n",
       "      <th>3</th>\n",
       "      <td>test_4</td>\n",
       "      <td>12764</td>\n",
       "    </tr>\n",
       "    <tr>\n",
       "      <th>4</th>\n",
       "      <td>test_5</td>\n",
       "      <td>1326</td>\n",
       "    </tr>\n",
       "  </tbody>\n",
       "</table>\n",
       "</div>"
      ],
      "text/plain": [
       "  ID_code  price\n",
       "0  test_1   5667\n",
       "1  test_2    638\n",
       "2  test_3    450\n",
       "3  test_4  12764\n",
       "4  test_5   1326"
      ]
     },
     "execution_count": 76,
     "metadata": {},
     "output_type": "execute_result"
    }
   ],
   "source": [
    "# 역시 마찬가지로 실제 정답지와 비교해보면\n",
    "answer.head() # 오... 얘도 얼추 스케일은 들어맞네..!"
   ]
  },
  {
   "cell_type": "code",
   "execution_count": 77,
   "id": "6c95c392",
   "metadata": {},
   "outputs": [
    {
     "data": {
      "text/plain": [
       "551.8447781083693"
      ]
     },
     "execution_count": 77,
     "metadata": {},
     "output_type": "execute_result"
    }
   ],
   "source": [
    "test_rmse_2 = mean_squared_error(sample['price'], answer['price'], squared=False)\n",
    "test_rmse_2 # 이번에도 예측값과 정답값의 차이를 RSME로 표현하고"
   ]
  },
  {
   "cell_type": "code",
   "execution_count": 78,
   "id": "a109138e",
   "metadata": {},
   "outputs": [
    {
     "data": {
      "text/plain": [
       "563.7928910173785"
      ]
     },
     "execution_count": 78,
     "metadata": {},
     "output_type": "execute_result"
    }
   ],
   "source": [
    "train_rmse_2 = -gs2.best_score_\n",
    "train_rsme_2 = np.sqrt(train_rmse_2)\n",
    "train_rsme_2 # 비교할 수 있게 RSME로 바꿔줌!"
   ]
  },
  {
   "cell_type": "markdown",
   "id": "7a8451f5",
   "metadata": {},
   "source": [
    "LightGMB의 경우,\n",
    "Test data에 대해 예측한 RSME는 약 551.8이고\n",
    "Train data에 대해 (CV 당시) 예측한 RMSE는 약 563.7이다.\n",
    "따라서, 이 경우에도 Test data에서 성능이 약간 더 좋은 과소적합이 발생했다고 볼 수 있다.\n",
    "역시 모델을 더 복잡하게 만들기 위해 learning_rate, n_estimators, max_depth 와 같은 파라미터들의 범위를 다르게 제시하거나, subsample 파라미터를 추가해볼 수 있겠다."
   ]
  },
  {
   "cell_type": "code",
   "execution_count": null,
   "id": "4a85a628",
   "metadata": {},
   "outputs": [],
   "source": []
  },
  {
   "cell_type": "code",
   "execution_count": null,
   "id": "3499fd3f",
   "metadata": {},
   "outputs": [],
   "source": []
  },
  {
   "cell_type": "markdown",
   "id": "1842351e",
   "metadata": {},
   "source": [
    "보너스문제 5"
   ]
  },
  {
   "cell_type": "markdown",
   "id": "860d168b",
   "metadata": {},
   "source": [
    "Ensemble은 여러개의 모델을 조합해서 그 결과를 뽑아 내는 방법이다.\n",
    "정확도가 높은 강한 모델을 하나 사용하는 것보다,\n",
    "정확도가 낮은 약한 모델을 여러개 조합 하는 방식이 정확도가 높다는 방법에 기반한 방법인데,\n",
    "방식에 따라서 Bagging과 Boosting 으로 분류된다.\n",
    "\n",
    "Bagging은 여러 모델을 사용할때, 각 모델에서 나온 값을 계산하여, 최종 결과값을 내는 방식이다.\n",
    "Boosting은 원리가 다른데 먼저 m1~3 모델이 있을때, m1에는 x에서 샘플링된 데이터를 넣는다.\n",
    "그리고, 나온 결과중에서, 예측이 잘못된 x중의 값들에 가중치를 반영해서 다음 모델인 m2에 넣는다.\n",
    "마찬가지로 y2 결과에서 예측이 잘못된 x’에 값들에 가중치를 반영해서 m3에 넣는다. \n",
    "그리고, 각 모델의 성능이 다르기 때문에, 각 모델에 가중치 W를 반영한다.\n",
    "\n",
    "https://bcho.tistory.com/1354\n",
    "\n",
    "https://tyami.github.io/machine%20learning/ensemble-7-boosting-XGBoost-classification/\n",
    "\n",
    "보너스 문제5. 앙상블 기법\n",
    "앙상블 학습은 여러 개의 약한 모델을 결합함으로써 과적합은 줄이고 최종적인 성능은 높이는 학습방식이다.\n",
    "정형 데이터를 다루는 머신러닝에서 특히 뛰어난 성능을 내며, 그 유형으로는 voting, bagging, boosting이 있다고 한다."
   ]
  },
  {
   "cell_type": "markdown",
   "id": "93ff0e26",
   "metadata": {},
   "source": [
    "보너스 문제6"
   ]
  },
  {
   "cell_type": "code",
   "execution_count": 72,
   "id": "72cae686",
   "metadata": {},
   "outputs": [
    {
     "data": {
      "text/html": [
       "<div>\n",
       "<style scoped>\n",
       "    .dataframe tbody tr th:only-of-type {\n",
       "        vertical-align: middle;\n",
       "    }\n",
       "\n",
       "    .dataframe tbody tr th {\n",
       "        vertical-align: top;\n",
       "    }\n",
       "\n",
       "    .dataframe thead th {\n",
       "        text-align: right;\n",
       "    }\n",
       "</style>\n",
       "<table border=\"1\" class=\"dataframe\">\n",
       "  <thead>\n",
       "    <tr style=\"text-align: right;\">\n",
       "      <th></th>\n",
       "      <th>ID_code</th>\n",
       "      <th>price</th>\n",
       "      <th>price1</th>\n",
       "    </tr>\n",
       "  </thead>\n",
       "  <tbody>\n",
       "    <tr>\n",
       "      <th>0</th>\n",
       "      <td>test_1</td>\n",
       "      <td>5635.0</td>\n",
       "      <td>5635.0</td>\n",
       "    </tr>\n",
       "    <tr>\n",
       "      <th>1</th>\n",
       "      <td>test_2</td>\n",
       "      <td>629.0</td>\n",
       "      <td>629.0</td>\n",
       "    </tr>\n",
       "    <tr>\n",
       "      <th>2</th>\n",
       "      <td>test_3</td>\n",
       "      <td>531.0</td>\n",
       "      <td>531.0</td>\n",
       "    </tr>\n",
       "    <tr>\n",
       "      <th>3</th>\n",
       "      <td>test_4</td>\n",
       "      <td>12079.0</td>\n",
       "      <td>12079.0</td>\n",
       "    </tr>\n",
       "    <tr>\n",
       "      <th>4</th>\n",
       "      <td>test_5</td>\n",
       "      <td>1323.0</td>\n",
       "      <td>1323.0</td>\n",
       "    </tr>\n",
       "  </tbody>\n",
       "</table>\n",
       "</div>"
      ],
      "text/plain": [
       "  ID_code    price   price1\n",
       "0  test_1   5635.0   5635.0\n",
       "1  test_2    629.0    629.0\n",
       "2  test_3    531.0    531.0\n",
       "3  test_4  12079.0  12079.0\n",
       "4  test_5   1323.0   1323.0"
      ]
     },
     "execution_count": 72,
     "metadata": {},
     "output_type": "execute_result"
    }
   ],
   "source": [
    "sample['price1'] = np.round(gs1_best.predict(test)) # XGBoost 모델로 예측한 price를 다시 답안지에 기입\n",
    "sample.head()"
   ]
  },
  {
   "cell_type": "code",
   "execution_count": 73,
   "id": "90809775",
   "metadata": {},
   "outputs": [
    {
     "data": {
      "text/html": [
       "<div>\n",
       "<style scoped>\n",
       "    .dataframe tbody tr th:only-of-type {\n",
       "        vertical-align: middle;\n",
       "    }\n",
       "\n",
       "    .dataframe tbody tr th {\n",
       "        vertical-align: top;\n",
       "    }\n",
       "\n",
       "    .dataframe thead th {\n",
       "        text-align: right;\n",
       "    }\n",
       "</style>\n",
       "<table border=\"1\" class=\"dataframe\">\n",
       "  <thead>\n",
       "    <tr style=\"text-align: right;\">\n",
       "      <th></th>\n",
       "      <th>ID_code</th>\n",
       "      <th>price</th>\n",
       "      <th>price1</th>\n",
       "      <th>price_mean</th>\n",
       "    </tr>\n",
       "  </thead>\n",
       "  <tbody>\n",
       "    <tr>\n",
       "      <th>0</th>\n",
       "      <td>test_1</td>\n",
       "      <td>5635.0</td>\n",
       "      <td>5635.0</td>\n",
       "      <td>5635.0</td>\n",
       "    </tr>\n",
       "    <tr>\n",
       "      <th>1</th>\n",
       "      <td>test_2</td>\n",
       "      <td>629.0</td>\n",
       "      <td>629.0</td>\n",
       "      <td>629.0</td>\n",
       "    </tr>\n",
       "    <tr>\n",
       "      <th>2</th>\n",
       "      <td>test_3</td>\n",
       "      <td>531.0</td>\n",
       "      <td>531.0</td>\n",
       "      <td>531.0</td>\n",
       "    </tr>\n",
       "    <tr>\n",
       "      <th>3</th>\n",
       "      <td>test_4</td>\n",
       "      <td>12079.0</td>\n",
       "      <td>12079.0</td>\n",
       "      <td>12079.0</td>\n",
       "    </tr>\n",
       "    <tr>\n",
       "      <th>4</th>\n",
       "      <td>test_5</td>\n",
       "      <td>1323.0</td>\n",
       "      <td>1323.0</td>\n",
       "      <td>1323.0</td>\n",
       "    </tr>\n",
       "  </tbody>\n",
       "</table>\n",
       "</div>"
      ],
      "text/plain": [
       "  ID_code    price   price1  price_mean\n",
       "0  test_1   5635.0   5635.0      5635.0\n",
       "1  test_2    629.0    629.0       629.0\n",
       "2  test_3    531.0    531.0       531.0\n",
       "3  test_4  12079.0  12079.0     12079.0\n",
       "4  test_5   1323.0   1323.0      1323.0"
      ]
     },
     "execution_count": 73,
     "metadata": {},
     "output_type": "execute_result"
    }
   ],
   "source": [
    "sample['price_mean'] = (sample['price1']+sample['price'])/2\n",
    "sample.head()"
   ]
  },
  {
   "cell_type": "code",
   "execution_count": 74,
   "id": "f5728146",
   "metadata": {},
   "outputs": [
    {
     "data": {
      "text/plain": [
       "543.6299537516027"
      ]
     },
     "execution_count": 74,
     "metadata": {},
     "output_type": "execute_result"
    }
   ],
   "source": [
    "test_rmse_3 = mean_squared_error(sample['price_mean'], answer['price'], squared=False)\n",
    "test_rmse_3 # 이번에도 예측값과 정답값의 차이를 RSME로 표현"
   ]
  },
  {
   "cell_type": "code",
   "execution_count": null,
   "id": "c0e64aa4",
   "metadata": {},
   "outputs": [],
   "source": []
  }
 ],
 "metadata": {
  "kernelspec": {
   "display_name": "Python 3 (ipykernel)",
   "language": "python",
   "name": "python3"
  },
  "language_info": {
   "codemirror_mode": {
    "name": "ipython",
    "version": 3
   },
   "file_extension": ".py",
   "mimetype": "text/x-python",
   "name": "python",
   "nbconvert_exporter": "python",
   "pygments_lexer": "ipython3",
   "version": "3.11.2"
  }
 },
 "nbformat": 4,
 "nbformat_minor": 5
}
